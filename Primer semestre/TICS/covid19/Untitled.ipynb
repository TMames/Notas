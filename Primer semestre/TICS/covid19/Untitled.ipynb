{
 "cells": [
  {
   "cell_type": "code",
   "execution_count": 2,
   "id": "37a5427b-b7b5-4396-9068-0a2729e67cc1",
   "metadata": {},
   "outputs": [],
   "source": [
    "import pandas as pd\n",
    "df = pd.read_csv(\"Pacientes_covid.csv\")\n",
    "import matplotlib.pyplot as plt"
   ]
  },
  {
   "cell_type": "code",
   "execution_count": 7,
   "id": "4b8f332f-fff7-4373-a624-74d5b40810c2",
   "metadata": {},
   "outputs": [
    {
     "data": {
      "text/html": [
       "<div>\n",
       "<style scoped>\n",
       "    .dataframe tbody tr th:only-of-type {\n",
       "        vertical-align: middle;\n",
       "    }\n",
       "\n",
       "    .dataframe tbody tr th {\n",
       "        vertical-align: top;\n",
       "    }\n",
       "\n",
       "    .dataframe thead th {\n",
       "        text-align: right;\n",
       "    }\n",
       "</style>\n",
       "<table border=\"1\" class=\"dataframe\">\n",
       "  <thead>\n",
       "    <tr style=\"text-align: right;\">\n",
       "      <th></th>\n",
       "      <th>Nombre</th>\n",
       "      <th>Sexo</th>\n",
       "      <th>Edad</th>\n",
       "      <th>Vive</th>\n",
       "      <th>Asintomático</th>\n",
       "      <th>Secuelas</th>\n",
       "      <th>Vacunado</th>\n",
       "    </tr>\n",
       "  </thead>\n",
       "  <tbody>\n",
       "    <tr>\n",
       "      <th>0</th>\n",
       "      <td>Amada Vendrell Suárez</td>\n",
       "      <td>Femenino</td>\n",
       "      <td>33</td>\n",
       "      <td>Sí</td>\n",
       "      <td>No</td>\n",
       "      <td>No</td>\n",
       "      <td>No</td>\n",
       "    </tr>\n",
       "    <tr>\n",
       "      <th>1</th>\n",
       "      <td>Telmo de Andreu</td>\n",
       "      <td>Masculino</td>\n",
       "      <td>50</td>\n",
       "      <td>Sí</td>\n",
       "      <td>No</td>\n",
       "      <td>No</td>\n",
       "      <td>Sí</td>\n",
       "    </tr>\n",
       "    <tr>\n",
       "      <th>2</th>\n",
       "      <td>Victoriano Enríquez Prada</td>\n",
       "      <td>Masculino</td>\n",
       "      <td>1</td>\n",
       "      <td>Sí</td>\n",
       "      <td>No</td>\n",
       "      <td>No</td>\n",
       "      <td>Sí</td>\n",
       "    </tr>\n",
       "    <tr>\n",
       "      <th>3</th>\n",
       "      <td>Abel del Marqués</td>\n",
       "      <td>Masculino</td>\n",
       "      <td>100</td>\n",
       "      <td>Sí</td>\n",
       "      <td>No</td>\n",
       "      <td>No</td>\n",
       "      <td>Sí</td>\n",
       "    </tr>\n",
       "    <tr>\n",
       "      <th>4</th>\n",
       "      <td>Caridad Angulo Fiol</td>\n",
       "      <td>Femenino</td>\n",
       "      <td>49</td>\n",
       "      <td>Sí</td>\n",
       "      <td>No</td>\n",
       "      <td>Sí</td>\n",
       "      <td>No</td>\n",
       "    </tr>\n",
       "    <tr>\n",
       "      <th>5</th>\n",
       "      <td>Sandalio Leon</td>\n",
       "      <td>Masculino</td>\n",
       "      <td>24</td>\n",
       "      <td>Sí</td>\n",
       "      <td>Sí</td>\n",
       "      <td>No</td>\n",
       "      <td>Sí</td>\n",
       "    </tr>\n",
       "    <tr>\n",
       "      <th>6</th>\n",
       "      <td>Gervasio Seco</td>\n",
       "      <td>Masculino</td>\n",
       "      <td>56</td>\n",
       "      <td>Sí</td>\n",
       "      <td>Sí</td>\n",
       "      <td>No</td>\n",
       "      <td>Sí</td>\n",
       "    </tr>\n",
       "    <tr>\n",
       "      <th>7</th>\n",
       "      <td>Bonifacio Alberto Pizarro</td>\n",
       "      <td>Masculino</td>\n",
       "      <td>13</td>\n",
       "      <td>Sí</td>\n",
       "      <td>No</td>\n",
       "      <td>No</td>\n",
       "      <td>No</td>\n",
       "    </tr>\n",
       "    <tr>\n",
       "      <th>8</th>\n",
       "      <td>Encarnita Corona Ramos Moreno</td>\n",
       "      <td>Femenino</td>\n",
       "      <td>12</td>\n",
       "      <td>Sí</td>\n",
       "      <td>Sí</td>\n",
       "      <td>No</td>\n",
       "      <td>Sí</td>\n",
       "    </tr>\n",
       "    <tr>\n",
       "      <th>9</th>\n",
       "      <td>Vanesa Sierra Isern</td>\n",
       "      <td>Femenino</td>\n",
       "      <td>53</td>\n",
       "      <td>Sí</td>\n",
       "      <td>No</td>\n",
       "      <td>No</td>\n",
       "      <td>Sí</td>\n",
       "    </tr>\n",
       "  </tbody>\n",
       "</table>\n",
       "</div>"
      ],
      "text/plain": [
       "                          Nombre       Sexo  Edad Vive Asintomático Secuelas  \\\n",
       "0          Amada Vendrell Suárez   Femenino    33   Sí           No       No   \n",
       "1                Telmo de Andreu  Masculino    50   Sí           No       No   \n",
       "2      Victoriano Enríquez Prada  Masculino     1   Sí           No       No   \n",
       "3               Abel del Marqués  Masculino   100   Sí           No       No   \n",
       "4            Caridad Angulo Fiol   Femenino    49   Sí           No       Sí   \n",
       "5                  Sandalio Leon  Masculino    24   Sí           Sí       No   \n",
       "6                  Gervasio Seco  Masculino    56   Sí           Sí       No   \n",
       "7      Bonifacio Alberto Pizarro  Masculino    13   Sí           No       No   \n",
       "8  Encarnita Corona Ramos Moreno   Femenino    12   Sí           Sí       No   \n",
       "9            Vanesa Sierra Isern   Femenino    53   Sí           No       No   \n",
       "\n",
       "  Vacunado  \n",
       "0       No  \n",
       "1       Sí  \n",
       "2       Sí  \n",
       "3       Sí  \n",
       "4       No  \n",
       "5       Sí  \n",
       "6       Sí  \n",
       "7       No  \n",
       "8       Sí  \n",
       "9       Sí  "
      ]
     },
     "execution_count": 7,
     "metadata": {},
     "output_type": "execute_result"
    }
   ],
   "source": [
    "df.head(10)"
   ]
  },
  {
   "cell_type": "code",
   "execution_count": 8,
   "id": "8bf13c3f-2a8e-4e20-a438-fe126b932d8e",
   "metadata": {},
   "outputs": [
    {
     "data": {
      "text/plain": [
       "((100, 7),\n",
       " Nombre          object\n",
       " Sexo            object\n",
       " Edad             int64\n",
       " Vive            object\n",
       " Asintomático    object\n",
       " Secuelas        object\n",
       " Vacunado        object\n",
       " dtype: object)"
      ]
     },
     "execution_count": 8,
     "metadata": {},
     "output_type": "execute_result"
    }
   ],
   "source": [
    "(df.shape, df.dtypes)"
   ]
  },
  {
   "cell_type": "code",
   "execution_count": 10,
   "id": "d8aecee9-e068-45c5-b060-73cad227a02d",
   "metadata": {},
   "outputs": [
    {
     "data": {
      "text/plain": [
       "(Sexo\n",
       " Masculino    54\n",
       " Femenino     46\n",
       " Name: count, dtype: int64,\n",
       " Vacunado\n",
       " Sí    75\n",
       " No    25\n",
       " Name: count, dtype: int64,\n",
       " Asintomático\n",
       " No    71\n",
       " Sí    29\n",
       " Name: count, dtype: int64,\n",
       " Secuelas\n",
       " No    92\n",
       " Sí     8\n",
       " Name: count, dtype: int64,\n",
       " Vive\n",
       " Sí    100\n",
       " Name: count, dtype: int64)"
      ]
     },
     "execution_count": 10,
     "metadata": {},
     "output_type": "execute_result"
    }
   ],
   "source": [
    "# Distribuciones simples\n",
    "sexo = df[\"Sexo\"].value_counts()\n",
    "vac = df[\"Vacunado\"].value_counts()\n",
    "asint = df[\"Asintomático\"].value_counts()\n",
    "sec = df[\"Secuelas\"].value_counts()\n",
    "vive = df[\"Vive\"].value_counts()\n",
    "\n",
    "sexo, vac, asint, sec, vive\n"
   ]
  },
  {
   "cell_type": "code",
   "execution_count": 11,
   "id": "01026c11-27fc-4df6-a012-e2829008ead9",
   "metadata": {},
   "outputs": [],
   "source": [
    "#Aqui se ve un ejemplo de un masculino y un femenino"
   ]
  },
  {
   "cell_type": "code",
   "execution_count": 12,
   "id": "83797736-676e-4594-8a35-3add7cc03846",
   "metadata": {},
   "outputs": [
    {
     "data": {
      "text/plain": [
       "(Vacunado\n",
       " Sí    75.0\n",
       " No    25.0\n",
       " Name: proportion, dtype: float64,\n",
       " Asintomático\n",
       " No    71.0\n",
       " Sí    29.0\n",
       " Name: proportion, dtype: float64,\n",
       " Secuelas\n",
       " No    92.0\n",
       " Sí     8.0\n",
       " Name: proportion, dtype: float64,\n",
       " Vive\n",
       " Sí    100.0\n",
       " Name: proportion, dtype: float64)"
      ]
     },
     "execution_count": 12,
     "metadata": {},
     "output_type": "execute_result"
    }
   ],
   "source": [
    "# Porcentajes\n",
    "porc_vac = df[\"Vacunado\"].value_counts(normalize=True).mul(100).round(1)\n",
    "porc_asint = df[\"Asintomático\"].value_counts(normalize=True).mul(100).round(1)\n",
    "porc_sec = df[\"Secuelas\"].value_counts(normalize=True).mul(100).round(1)\n",
    "porc_vive = df[\"Vive\"].value_counts(normalize=True).mul(100).round(1)\n",
    "\n",
    "porc_vac, porc_asint, porc_sec, porc_vive\n"
   ]
  },
  {
   "cell_type": "code",
   "execution_count": 13,
   "id": "944aecb0-d13d-41e7-a6d9-bbf4aef12b1b",
   "metadata": {},
   "outputs": [],
   "source": [
    "# Aquí vemos en porcentaje cuantos estan vacunados y cuantos no, cuantos asintomaticos\n",
    "# los que tienen secuelas, y se puede ver que el 100 porciento está con vida"
   ]
  },
  {
   "cell_type": "code",
   "execution_count": 15,
   "id": "9507153c-fb72-4f67-8b16-3d50d48d0d06",
   "metadata": {},
   "outputs": [
    {
     "data": {
      "text/plain": [
       "(Vacunado\n",
       " No    26.6\n",
       " Sí    49.6\n",
       " Name: Edad, dtype: float64,\n",
       " Sexo\n",
       " Femenino     48.1\n",
       " Masculino    40.2\n",
       " Name: Edad, dtype: float64,\n",
       " Vive\n",
       " Sí    43.8\n",
       " Name: Edad, dtype: float64)"
      ]
     },
     "execution_count": 15,
     "metadata": {},
     "output_type": "execute_result"
    }
   ],
   "source": [
    "# Edad promedio por grupo\n",
    "edad_promedio_por_vacuna = df.groupby(\"Vacunado\")[\"Edad\"].mean().round(1)\n",
    "edad_promedio_por_sexo = df.groupby(\"Sexo\")[\"Edad\"].mean().round(1)\n",
    "edad_promedio_por_vive = df.groupby(\"Vive\")[\"Edad\"].mean().round(1)\n",
    "\n",
    "edad_promedio_por_vacuna, edad_promedio_por_sexo, edad_promedio_por_vive\n",
    "\n"
   ]
  },
  {
   "cell_type": "code",
   "execution_count": 16,
   "id": "9fa5b8c7-e109-447c-b1eb-7f5f33db575e",
   "metadata": {},
   "outputs": [],
   "source": [
    "#Aquí se ve la edad promedio de los que no y si se vacunaron, edad promedio de femeninos y masculinos\n",
    "# y la edad promedio de todos los que viven"
   ]
  },
  {
   "cell_type": "code",
   "execution_count": null,
   "id": "6959e654-0f7b-49a2-93ea-46f521b6542a",
   "metadata": {},
   "outputs": [],
   "source": []
  },
  {
   "cell_type": "code",
   "execution_count": 17,
   "id": "e3cc6369-25ba-47f5-bb64-bb32eeb9db7c",
   "metadata": {},
   "outputs": [
    {
     "data": {
      "text/plain": [
       "<Axes: title={'center': 'Vacunados vs No vacunados'}, xlabel='Vacunado'>"
      ]
     },
     "execution_count": 17,
     "metadata": {},
     "output_type": "execute_result"
    },
    {
     "data": {
      "image/png": "[encoded data removed]",
      "text/plain": [
       "<Figure size 640x480 with 1 Axes>"
      ]
     },
     "metadata": {},
     "output_type": "display_data"
    }
   ],
   "source": [
    "# Distribución de vacunación\n",
    "df[\"Vacunado\"].value_counts().plot(kind=\"bar\", title=\"Vacunados vs No vacunados\")\n"
   ]
  },
  {
   "cell_type": "code",
   "execution_count": 18,
   "id": "c76b4485-ccf4-44e1-9705-8b58cebf659f",
   "metadata": {},
   "outputs": [],
   "source": [
    "#Grafico de los vacunados"
   ]
  },
  {
   "cell_type": "code",
   "execution_count": 19,
   "id": "578d9942-f554-4541-81bf-1cc6b4932558",
   "metadata": {},
   "outputs": [
    {
     "data": {
      "text/plain": [
       "<Axes: title={'center': 'Asintomáticos'}, xlabel='Asintomático'>"
      ]
     },
     "execution_count": 19,
     "metadata": {},
     "output_type": "execute_result"
    },
    {
     "data": {
      "image/png": "[encoded data removed]",
      "text/plain": [
       "<Figure size 640x480 with 1 Axes>"
      ]
     },
     "metadata": {},
     "output_type": "display_data"
    }
   ],
   "source": [
    "# Distribución de asintomáticos\n",
    "df[\"Asintomático\"].value_counts().plot(kind=\"bar\", title=\"Asintomáticos\")\n"
   ]
  },
  {
   "cell_type": "code",
   "execution_count": 21,
   "id": "e4aa714e-b7f9-4b8c-8c9f-b2ed99c0a908",
   "metadata": {},
   "outputs": [],
   "source": [
    "#Grafica de los asintomaticos: significa tener enfermedad sin presentar sintomas visibles\n",
    "# se refiere a personas infectadas con el virus pero no muestran fiebre, tos, dificultad para respirar\n",
    "# "
   ]
  },
  {
   "cell_type": "code",
   "execution_count": 22,
   "id": "681ab067-f100-443c-9639-81076ac39d50",
   "metadata": {},
   "outputs": [
    {
     "data": {
      "text/plain": [
       "<Axes: title={'center': 'Distribución de edades'}, ylabel='Frequency'>"
      ]
     },
     "execution_count": 22,
     "metadata": {},
     "output_type": "execute_result"
    },
    {
     "data": {
      "image/png": "[encoded data removed]",
      "text/plain": [
       "<Figure size 640x480 with 1 Axes>"
      ]
     },
     "metadata": {},
     "output_type": "display_data"
    }
   ],
   "source": [
    "# Histograma de edades\n",
    "df[\"Edad\"].plot(kind=\"hist\", bins=12, title=\"Distribución de edades\")\n"
   ]
  },
  {
   "cell_type": "code",
   "execution_count": 23,
   "id": "191d46dc-8890-449b-a24f-93ef71e9c3d6",
   "metadata": {},
   "outputs": [],
   "source": [
    "#Distribucion de edades. "
   ]
  },
  {
   "cell_type": "code",
   "execution_count": 25,
   "id": "03495bdf-2e0a-4250-b26a-4faf9032cfac",
   "metadata": {},
   "outputs": [
    {
     "data": {
      "text/plain": [
       "<Axes: title={'center': 'Secuelas según vacunación (proporciones)'}, xlabel='Vacunado'>"
      ]
     },
     "execution_count": 25,
     "metadata": {},
     "output_type": "execute_result"
    },
    {
     "data": {
      "image/png": "[encoded data removed]",
      "text/plain": [
       "<Figure size 640x480 with 1 Axes>"
      ]
     },
     "metadata": {},
     "output_type": "display_data"
    }
   ],
   "source": [
    "#\n",
    "pd.crosstab(df[\"Vacunado\"], df[\"Secuelas\"], normalize=\"index\").plot(\n",
    "    kind=\"bar\", stacked=True, title=\"Secuelas según vacunación (proporciones)\"\n",
    ")\n"
   ]
  },
  {
   "cell_type": "code",
   "execution_count": null,
   "id": "01b57eb6-1f8a-4d81-af34-6d420e737b72",
   "metadata": {},
   "outputs": [],
   "source": []
  },
  {
   "cell_type": "code",
   "execution_count": 26,
   "id": "cddf91af-db0c-4246-8743-360c6d592b6f",
   "metadata": {},
   "outputs": [],
   "source": [
    "#Proporciones de secuelas segun su vacunacion"
   ]
  },
  {
   "cell_type": "code",
   "execution_count": 35,
   "id": "80967c07-c922-444c-964b-56cc7447bfe3",
   "metadata": {},
   "outputs": [],
   "source": [
    "#Este grafico muestra la proporcion de pacientes con y sin secuelas\n",
    "# en x se ve si estan vacunados. En y se ve el porcentaje de pacientes \n",
    "#La barra se divide en dos, donde azul es no tiene cecuelas\n",
    "# si la parte azul es mayor en vacunados, significa que la vacunacion ayuda a reducir la aparicion de secuelas"
   ]
  },
  {
   "cell_type": "code",
   "execution_count": 27,
   "id": "5b0e9615-e23f-40b7-9c95-3fea71d83c04",
   "metadata": {},
   "outputs": [
    {
     "data": {
      "text/plain": [
       "Total de pacientes    100.0\n",
       "% Vacunados            75.0\n",
       "% Asintomáticos        29.0\n",
       "% Con secuelas          8.0\n",
       "dtype: float64"
      ]
     },
     "execution_count": 27,
     "metadata": {},
     "output_type": "execute_result"
    }
   ],
   "source": [
    "total = len(df)\n",
    "resumen = pd.Series({\n",
    "    \"Total de pacientes\": total,\n",
    "    \"% Vacunados\": df[\"Vacunado\"].value_counts(normalize=True).get(\"Sí\", 0)*100,\n",
    "    \"% Asintomáticos\": df[\"Asintomático\"].value_counts(normalize=True).get(\"Sí\", 0)*100,\n",
    "    \"% Con secuelas\": df[\"Secuelas\"].value_counts(normalize=True).get(\"Sí\", 0)*100\n",
    "}).round(1)\n",
    "\n",
    "resumen\n"
   ]
  },
  {
   "cell_type": "code",
   "execution_count": null,
   "id": "771f3474-c541-422e-be7c-80df58b703b1",
   "metadata": {},
   "outputs": [],
   "source": [
    "#Los hallazgos encontrados"
   ]
  },
  {
   "cell_type": "code",
   "execution_count": null,
   "id": "7ff73355-8a00-4082-9702-8c6a95ecd0fb",
   "metadata": {},
   "outputs": [],
   "source": []
  },
  {
   "cell_type": "code",
   "execution_count": 29,
   "id": "0ba93845-21c0-4380-9841-8eed5eabfa83",
   "metadata": {},
   "outputs": [],
   "source": [
    "#Las tics son para digitalizar registros y evitar perdidas, facilitar analisis"
   ]
  },
  {
   "cell_type": "code",
   "execution_count": 30,
   "id": "3d0e9824-49a5-4b5c-9324-52ebc3708748",
   "metadata": {},
   "outputs": [],
   "source": [
    "# sirve para dar reportes periodos con notebooks programados"
   ]
  },
  {
   "cell_type": "code",
   "execution_count": 31,
   "id": "09f8ffbd-8506-4836-a651-d1b9ab55fdba",
   "metadata": {},
   "outputs": [],
   "source": [
    "#Acceso remoto automatizado"
   ]
  },
  {
   "cell_type": "code",
   "execution_count": 32,
   "id": "9fe81102-38bd-4359-92d2-08d9f3e6c4b8",
   "metadata": {},
   "outputs": [],
   "source": [
    "#Se itnegra con sistemas hospitalarios"
   ]
  },
  {
   "cell_type": "code",
   "execution_count": 33,
   "id": "7f47d8d2-4086-41b2-8007-c92914b334bc",
   "metadata": {},
   "outputs": [],
   "source": [
    "#Los datos se organizan en una base de datos relacional, sql. "
   ]
  },
  {
   "cell_type": "code",
   "execution_count": null,
   "id": "46b31f2a-fe96-46d9-a3cb-227d99909c12",
   "metadata": {},
   "outputs": [],
   "source": []
  }
 ],
 "metadata": {
  "kernelspec": {
   "display_name": "Python 3 (ipykernel)",
   "language": "python",
   "name": "python3"
  },
  "language_info": {
   "codemirror_mode": {
    "name": "ipython",
    "version": 3
   },
   "file_extension": ".py",
   "mimetype": "text/x-python",
   "name": "python",
   "nbconvert_exporter": "python",
   "pygments_lexer": "ipython3",
   "version": "3.11.0"
  }
 },
 "nbformat": 4,
 "nbformat_minor": 5
}
